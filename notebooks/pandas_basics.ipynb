{
 "cells": [
  {
   "cell_type": "markdown",
   "metadata": {},
   "source": [
    "# Введение в Pandas\n",
    "\n",
    "## Что такое Pandas?\n",
    "\n",
    "Pandas - это мощная библиотека с открытым исходным кодом для анализа и обработки данных в Python. Она предоставляет быстрые, гибкие и выразительные структуры данных, разработанные для того, чтобы сделать работу с \"реляционными\" или \"размеченными\" данными простой и интуитивно понятной.\n",
    "\n",
    "## Ключевые особенности Pandas\n",
    "\n",
    "- **DataFrame**: Двумерная размеченная структура данных со столбцами потенциально разных типов\n",
    "- **Series**: Одномерный размеченный массив, способный хранить данные любого типа\n",
    "- **Мощные возможности манипуляции данными**: фильтрация, выборка, группировка, объединение, изменение формы и т.д.\n",
    "- **Обработка отсутствующих данных**: Встроенные инструменты для работы с отсутствующими значениями\n",
    "- **Функциональность временных рядов**: Генерация диапазонов дат, преобразование частоты, статистика скользящего окна и т.д.\n",
    "\n",
    "## Pandas и NumPy\n",
    "\n",
    "Pandas построен на основе NumPy, что означает:\n",
    "- Pandas использует массивы NumPy для хранения своих данных\n",
    "- Многие операции Pandas возвращают массивы NumPy\n",
    "- Pandas расширяет функциональность NumPy, предоставляя инструменты манипуляции данными более высокого уровня\n",
    "- В то время как NumPy превосходен в численных операциях с однородными массивами, Pandas оптимизирован для работы с табличными, гетерогенными данными\n",
    "\n",
    "Давайте импортируем библиотеки и рассмотрим некоторые базовые примеры:\n"
   ]
  },
  {
   "cell_type": "code",
   "execution_count": 1,
   "metadata": {
    "tags": []
   },
   "outputs": [],
   "source": [
    "import numpy as np\n",
    "import pandas as pd"
   ]
  },
  {
   "cell_type": "markdown",
   "metadata": {},
   "source": [
    "### Series"
   ]
  },
  {
   "cell_type": "code",
   "execution_count": 3,
   "metadata": {},
   "outputs": [
    {
     "data": {
      "text/plain": [
       "0    1\n",
       "1    3\n",
       "2    5\n",
       "3    7\n",
       "4    9\n",
       "dtype: int64"
      ]
     },
     "execution_count": 3,
     "metadata": {},
     "output_type": "execute_result"
    }
   ],
   "source": [
    "# Создание Series из списка\n",
    "s1 = pd.Series([1, 3, 5, 7, 9])\n",
    "s1\n"
   ]
  },
  {
   "cell_type": "code",
   "execution_count": 6,
   "metadata": {},
   "outputs": [
    {
     "data": {
      "text/plain": [
       "a    10\n",
       "b    20\n",
       "c    30\n",
       "d    40\n",
       "dtype: int64"
      ]
     },
     "execution_count": 6,
     "metadata": {},
     "output_type": "execute_result"
    }
   ],
   "source": [
    "\n",
    "# Создание Series из списка с пользовательским индексом\n",
    "s2 = pd.Series([10, 20, 30, 40], index=['a', 'b', 'c', 'd'])\n",
    "s2\n"
   ]
  },
  {
   "cell_type": "code",
   "execution_count": 7,
   "metadata": {},
   "outputs": [
    {
     "data": {
      "text/plain": [
       "a    100\n",
       "b    200\n",
       "c    300\n",
       "dtype: int64"
      ]
     },
     "execution_count": 7,
     "metadata": {},
     "output_type": "execute_result"
    }
   ],
   "source": [
    "\n",
    "# Создание Series из словаря\n",
    "s3 = pd.Series({'a': 100, 'b': 200, 'c': 300})\n",
    "s3\n"
   ]
  },
  {
   "cell_type": "code",
   "execution_count": 8,
   "metadata": {},
   "outputs": [
    {
     "data": {
      "text/plain": [
       "0    2\n",
       "1    4\n",
       "2    6\n",
       "3    8\n",
       "dtype: int64"
      ]
     },
     "execution_count": 8,
     "metadata": {},
     "output_type": "execute_result"
    }
   ],
   "source": [
    "\n",
    "# Создание Series из NumPy массива\n",
    "arr = np.array([2, 4, 6, 8])\n",
    "s4 = pd.Series(arr)\n",
    "s4\n"
   ]
  },
  {
   "cell_type": "code",
   "execution_count": 9,
   "metadata": {},
   "outputs": [
    {
     "data": {
      "text/plain": [
       "a    15\n",
       "b    25\n",
       "c    35\n",
       "d    45\n",
       "dtype: int64"
      ]
     },
     "execution_count": 9,
     "metadata": {},
     "output_type": "execute_result"
    }
   ],
   "source": [
    "\n",
    "# Базовые операции с Series\n",
    "# s2 + 5\n",
    "s2 + 5\n"
   ]
  },
  {
   "cell_type": "code",
   "execution_count": 10,
   "metadata": {},
   "outputs": [
    {
     "data": {
      "text/plain": [
       "a    20\n",
       "b    40\n",
       "c    60\n",
       "d    80\n",
       "dtype: int64"
      ]
     },
     "execution_count": 10,
     "metadata": {},
     "output_type": "execute_result"
    }
   ],
   "source": [
    "\n",
    "# s2 * 2\n",
    "s2 * 2\n"
   ]
  },
  {
   "cell_type": "code",
   "execution_count": 11,
   "metadata": {},
   "outputs": [
    {
     "data": {
      "text/plain": [
       "a    False\n",
       "b    False\n",
       "c     True\n",
       "d     True\n",
       "dtype: bool"
      ]
     },
     "execution_count": 11,
     "metadata": {},
     "output_type": "execute_result"
    }
   ],
   "source": [
    "\n",
    "s2 > 25\n"
   ]
  },
  {
   "cell_type": "code",
   "execution_count": 12,
   "metadata": {},
   "outputs": [
    {
     "data": {
      "text/plain": [
       "20"
      ]
     },
     "execution_count": 12,
     "metadata": {},
     "output_type": "execute_result"
    }
   ],
   "source": [
    "\n",
    "# Индексация и срезы\n",
    "# Доступ по метке\n",
    "s2['b']"
   ]
  },
  {
   "cell_type": "code",
   "execution_count": null,
   "metadata": {},
   "outputs": [],
   "source": [
    "\n",
    "# Доступ по позиции\n",
    "s2[1]  # Также можно использовать позиционный индекс"
   ]
  },
  {
   "cell_type": "code",
   "execution_count": 13,
   "metadata": {},
   "outputs": [
    {
     "data": {
      "text/plain": [
       "a    10\n",
       "c    30\n",
       "dtype: int64"
      ]
     },
     "execution_count": 13,
     "metadata": {},
     "output_type": "execute_result"
    }
   ],
   "source": [
    "\n",
    "# Выбор нескольких элементов\n",
    "s2[['a', 'c']]\n"
   ]
  },
  {
   "cell_type": "code",
   "execution_count": 14,
   "metadata": {},
   "outputs": [
    {
     "data": {
      "text/plain": [
       "b    20\n",
       "c    30\n",
       "dtype: int64"
      ]
     },
     "execution_count": 14,
     "metadata": {},
     "output_type": "execute_result"
    }
   ],
   "source": [
    "\n",
    "# Срез по позиционному индексу\n",
    "s2[1:3]\n"
   ]
  },
  {
   "cell_type": "code",
   "execution_count": 15,
   "metadata": {},
   "outputs": [
    {
     "data": {
      "text/plain": [
       "(5.0, 9, 1)"
      ]
     },
     "execution_count": 15,
     "metadata": {},
     "output_type": "execute_result"
    }
   ],
   "source": [
    "# Методы Series: среднее значение, максимальное значение, минимальное значение\n",
    "s1.mean(), s1.max(), s1.min()"
   ]
  },
  {
   "cell_type": "code",
   "execution_count": 16,
   "metadata": {},
   "outputs": [
    {
     "data": {
      "text/plain": [
       "count    5.000000\n",
       "mean     5.000000\n",
       "std      3.162278\n",
       "min      1.000000\n",
       "25%      3.000000\n",
       "50%      5.000000\n",
       "75%      7.000000\n",
       "max      9.000000\n",
       "dtype: float64"
      ]
     },
     "execution_count": 16,
     "metadata": {},
     "output_type": "execute_result"
    }
   ],
   "source": [
    "# Статистическое описание\n",
    "s1.describe()"
   ]
  },
  {
   "cell_type": "code",
   "execution_count": 17,
   "metadata": {},
   "outputs": [
    {
     "data": {
      "text/plain": [
       "0    1.0\n",
       "1    2.0\n",
       "2    NaN\n",
       "3    4.0\n",
       "4    5.0\n",
       "dtype: float64"
      ]
     },
     "execution_count": 17,
     "metadata": {},
     "output_type": "execute_result"
    }
   ],
   "source": [
    "# Работа с отсутствующими значениями\n",
    "s5 = pd.Series([1, 2, np.nan, 4, 5])\n",
    "s5\n"
   ]
  },
  {
   "cell_type": "code",
   "execution_count": 18,
   "metadata": {},
   "outputs": [
    {
     "data": {
      "text/plain": [
       "0    False\n",
       "1    False\n",
       "2     True\n",
       "3    False\n",
       "4    False\n",
       "dtype: bool"
      ]
     },
     "execution_count": 18,
     "metadata": {},
     "output_type": "execute_result"
    }
   ],
   "source": [
    "# Проверка на NaN\n",
    "s5.isna()"
   ]
  },
  {
   "cell_type": "code",
   "execution_count": 19,
   "metadata": {},
   "outputs": [
    {
     "data": {
      "text/plain": [
       "0    1.0\n",
       "1    2.0\n",
       "3    4.0\n",
       "4    5.0\n",
       "dtype: float64"
      ]
     },
     "execution_count": 19,
     "metadata": {},
     "output_type": "execute_result"
    }
   ],
   "source": [
    "# Удаление NaN\n",
    "s5.dropna()"
   ]
  },
  {
   "cell_type": "code",
   "execution_count": 20,
   "metadata": {},
   "outputs": [
    {
     "data": {
      "text/plain": [
       "0    1.0\n",
       "1    2.0\n",
       "2    0.0\n",
       "3    4.0\n",
       "4    5.0\n",
       "dtype: float64"
      ]
     },
     "execution_count": 20,
     "metadata": {},
     "output_type": "execute_result"
    }
   ],
   "source": [
    "# Заполнение NaN значением\n",
    "s5.fillna(0)"
   ]
  },
  {
   "cell_type": "markdown",
   "metadata": {},
   "source": [
    "### Dataframe"
   ]
  },
  {
   "cell_type": "code",
   "execution_count": 21,
   "metadata": {},
   "outputs": [
    {
     "name": "stdout",
     "output_type": "stream",
     "text": [
      "# DataFrame - двумерная структура данных в pandas\n",
      "\n",
      "## Создание DataFrame из словаря:\n",
      "        Имя  Возраст            Город\n",
      "0      Анна       25           Москва\n",
      "1     Борис       30  Санкт-Петербург\n",
      "2      Вера       35           Казань\n",
      "3  Григорий       40      Новосибирск\n",
      "\n"
     ]
    }
   ],
   "source": [
    "# DataFrame - основная структура данных в pandas\n",
    "print(\"# DataFrame - двумерная структура данных в pandas\")\n",
    "print()\n",
    "\n",
    "# Создание DataFrame из словаря\n",
    "print(\"## Создание DataFrame из словаря:\")\n",
    "data_dict = {\n",
    "    'Имя': ['Анна', 'Борис', 'Вера', 'Григорий'],\n",
    "    'Возраст': [25, 30, 35, 40],\n",
    "    'Город': ['Москва', 'Санкт-Петербург', 'Казань', 'Новосибирск']\n",
    "}\n",
    "df1 = pd.DataFrame(data_dict)\n",
    "print(df1)\n",
    "print()\n"
   ]
  },
  {
   "cell_type": "code",
   "execution_count": 22,
   "metadata": {},
   "outputs": [
    {
     "name": "stdout",
     "output_type": "stream",
     "text": [
      "## Создание DataFrame из списка словарей:\n",
      "        Имя  Возраст            Город\n",
      "0      Анна       25           Москва\n",
      "1     Борис       30  Санкт-Петербург\n",
      "2      Вера       35           Казань\n",
      "3  Григорий       40      Новосибирск\n",
      "\n"
     ]
    }
   ],
   "source": [
    "\n",
    "# Создание DataFrame из списка словарей\n",
    "print(\"## Создание DataFrame из списка словарей:\")\n",
    "data_list = [\n",
    "    {'Имя': 'Анна', 'Возраст': 25, 'Город': 'Москва'},\n",
    "    {'Имя': 'Борис', 'Возраст': 30, 'Город': 'Санкт-Петербург'},\n",
    "    {'Имя': 'Вера', 'Возраст': 35, 'Город': 'Казань'},\n",
    "    {'Имя': 'Григорий', 'Возраст': 40, 'Город': 'Новосибирск'}\n",
    "]\n",
    "df2 = pd.DataFrame(data_list)\n",
    "print(df2)\n",
    "print()\n"
   ]
  },
  {
   "cell_type": "code",
   "execution_count": 23,
   "metadata": {},
   "outputs": [
    {
     "name": "stdout",
     "output_type": "stream",
     "text": [
      "## Создание DataFrame из NumPy массива:\n",
      "   A  B  C\n",
      "0  1  2  3\n",
      "1  4  5  6\n",
      "2  7  8  9\n",
      "\n"
     ]
    }
   ],
   "source": [
    "\n",
    "# Создание DataFrame из NumPy массива\n",
    "print(\"## Создание DataFrame из NumPy массива:\")\n",
    "data_array = np.array([[1, 2, 3], [4, 5, 6], [7, 8, 9]])\n",
    "df3 = pd.DataFrame(data_array, columns=['A', 'B', 'C'])\n",
    "print(df3)\n",
    "print()\n"
   ]
  },
  {
   "cell_type": "code",
   "execution_count": 24,
   "metadata": {},
   "outputs": [
    {
     "name": "stdout",
     "output_type": "stream",
     "text": [
      "## Чтение данных из CSV файла:\n",
      "   id      name  age             city\n",
      "0   1      Анна   25           Москва\n",
      "1   2     Борис   30  Санкт-Петербург\n",
      "2   3      Вера   35           Казань\n",
      "3   4  Григорий   40      Новосибирск\n",
      "\n"
     ]
    }
   ],
   "source": [
    "\n",
    "# Создание временного CSV файла для демонстрации\n",
    "import io\n",
    "csv_data = \"\"\"id,name,age,city\n",
    "1,Анна,25,Москва\n",
    "2,Борис,30,Санкт-Петербург\n",
    "3,Вера,35,Казань\n",
    "4,Григорий,40,Новосибирск\"\"\"\n",
    "\n",
    "# Чтение из CSV\n",
    "print(\"## Чтение данных из CSV файла:\")\n",
    "# В реальном сценарии используйте: df4 = pd.read_csv('filename.csv')\n",
    "df4 = pd.read_csv(io.StringIO(csv_data))\n",
    "print(df4)\n",
    "print()"
   ]
  },
  {
   "cell_type": "code",
   "execution_count": 26,
   "metadata": {},
   "outputs": [
    {
     "name": "stdout",
     "output_type": "stream",
     "text": [
      "## Основные атрибуты DataFrame:\n",
      "Размерность (shape): (4, 4)\n",
      "\n",
      "Столбцы (columns):\n",
      "Index(['id', 'name', 'age', 'city'], dtype='object')\n",
      "\n",
      "Индекс (index):\n",
      "RangeIndex(start=0, stop=4, step=1)\n",
      "\n",
      "Типы данных (dtypes):\n",
      "id       int64\n",
      "name    object\n",
      "age      int64\n",
      "city    object\n",
      "dtype: object\n"
     ]
    }
   ],
   "source": [
    "\n",
    "# Основные атрибуты DataFrame\n",
    "print(\"## Основные атрибуты DataFrame:\")\n",
    "print(\"Размерность (shape):\", df4.shape)\n",
    "print(\"\\nСтолбцы (columns):\")\n",
    "print(df4.columns)\n",
    "print(\"\\nИндекс (index):\")\n",
    "print(df4.index)\n",
    "print(\"\\nТипы данных (dtypes):\")\n",
    "print(df4.dtypes)\n"
   ]
  },
  {
   "cell_type": "code",
   "execution_count": 27,
   "metadata": {},
   "outputs": [
    {
     "name": "stdout",
     "output_type": "stream",
     "text": [
      "\n",
      "Краткая информация о DataFrame:\n",
      "<class 'pandas.core.frame.DataFrame'>\n",
      "RangeIndex: 4 entries, 0 to 3\n",
      "Data columns (total 4 columns):\n",
      " #   Column  Non-Null Count  Dtype \n",
      "---  ------  --------------  ----- \n",
      " 0   id      4 non-null      int64 \n",
      " 1   name    4 non-null      object\n",
      " 2   age     4 non-null      int64 \n",
      " 3   city    4 non-null      object\n",
      "dtypes: int64(2), object(2)\n",
      "memory usage: 256.0+ bytes\n",
      "None\n"
     ]
    }
   ],
   "source": [
    "print(\"\\nКраткая информация о DataFrame:\")\n",
    "print(df4.info())\n"
   ]
  },
  {
   "cell_type": "code",
   "execution_count": 28,
   "metadata": {},
   "outputs": [
    {
     "name": "stdout",
     "output_type": "stream",
     "text": [
      "\n",
      "Статистическое описание числовых столбцов:\n",
      "             id        age\n",
      "count  4.000000   4.000000\n",
      "mean   2.500000  32.500000\n",
      "std    1.290994   6.454972\n",
      "min    1.000000  25.000000\n",
      "25%    1.750000  28.750000\n",
      "50%    2.500000  32.500000\n",
      "75%    3.250000  36.250000\n",
      "max    4.000000  40.000000\n"
     ]
    }
   ],
   "source": [
    "print(\"\\nСтатистическое описание числовых столбцов:\")\n",
    "print(df4.describe())"
   ]
  },
  {
   "cell_type": "markdown",
   "metadata": {},
   "source": [
    "### Dataframe operations"
   ]
  },
  {
   "cell_type": "code",
   "execution_count": 29,
   "metadata": {},
   "outputs": [
    {
     "name": "stdout",
     "output_type": "stream",
     "text": [
      "## Индексация и срезы в DataFrame:\n",
      "      A   B    C\n",
      "row1  1  10  100\n",
      "row2  2  20  200\n",
      "row3  3  30  300\n",
      "row4  4  40  400\n",
      "row5  5  50  500\n",
      "\n",
      "## Доступ к столбцам:\n",
      "Столбец 'A':\n",
      "row1    1\n",
      "row2    2\n",
      "row3    3\n",
      "row4    4\n",
      "row5    5\n",
      "Name: A, dtype: int64\n",
      "\n",
      "Несколько столбцов:\n",
      "      A    C\n",
      "row1  1  100\n",
      "row2  2  200\n",
      "row3  3  300\n",
      "row4  4  400\n",
      "row5  5  500\n",
      "\n",
      "## Доступ к строкам по индексу:\n",
      "Первые 2 строки:\n",
      "      A   B    C\n",
      "row1  1  10  100\n",
      "row2  2  20  200\n",
      "\n",
      "## loc vs iloc:\n",
      "loc - индексация по меткам:\n",
      "df.loc['row2']:\n",
      "A      2\n",
      "B     20\n",
      "C    200\n",
      "Name: row2, dtype: int64\n",
      "\n",
      "df.loc['row1':'row3', 'A':'B']:\n",
      "      A   B\n",
      "row1  1  10\n",
      "row2  2  20\n",
      "row3  3  30\n",
      "\n",
      "iloc - индексация по позициям:\n",
      "df.iloc[1]:\n",
      "A      2\n",
      "B     20\n",
      "C    200\n",
      "Name: row2, dtype: int64\n",
      "\n",
      "df.iloc[0:3, 0:2]:\n",
      "      A   B\n",
      "row1  1  10\n",
      "row2  2  20\n",
      "row3  3  30\n",
      "\n",
      "## Условная индексация:\n",
      "Строки, где A > 2:\n",
      "      A   B    C\n",
      "row3  3  30  300\n",
      "row4  4  40  400\n",
      "row5  5  50  500\n",
      "\n",
      "## Многоуровневая индексация:\n",
      "                               Значение\n",
      "Первый уровень Второй уровень          \n",
      "A              один                  10\n",
      "               два                   20\n",
      "B              один                  30\n",
      "               два                   40\n",
      "               три                   50\n",
      "\n",
      "## Доступ к данным в многоуровневом индексе:\n",
      "df_multi.loc['A']:\n",
      "                Значение\n",
      "Второй уровень          \n",
      "один                  10\n",
      "два                   20\n",
      "\n",
      "df_multi.loc[('A', 'один')]:\n",
      "Значение    10\n",
      "Name: (A, один), dtype: int64\n",
      "\n",
      "## Установка и сброс индекса:\n",
      "Исходный DataFrame:\n",
      "   id      name  age             city\n",
      "0   1      Анна   25           Москва\n",
      "1   2     Борис   30  Санкт-Петербург\n",
      "2   3      Вера   35           Казань\n",
      "3   4  Григорий   40      Новосибирск\n",
      "\n",
      "Установка столбца 'name' в качестве индекса:\n",
      "          id  age             city\n",
      "name                              \n",
      "Анна       1   25           Москва\n",
      "Борис      2   30  Санкт-Петербург\n",
      "Вера       3   35           Казань\n",
      "Григорий   4   40      Новосибирск\n",
      "\n",
      "Сброс индекса обратно в столбец:\n",
      "       name  id  age             city\n",
      "0      Анна   1   25           Москва\n",
      "1     Борис   2   30  Санкт-Петербург\n",
      "2      Вера   3   35           Казань\n",
      "3  Григорий   4   40      Новосибирск\n",
      "\n",
      "## Установка нескольких уровней индекса:\n",
      "                          id  age\n",
      "city            name             \n",
      "Москва          Анна       1   25\n",
      "Санкт-Петербург Борис      2   30\n",
      "Казань          Вера       3   35\n",
      "Новосибирск     Григорий   4   40\n",
      "\n",
      "Сброс всех уровней индекса:\n",
      "              city      name  id  age\n",
      "0           Москва      Анна   1   25\n",
      "1  Санкт-Петербург     Борис   2   30\n",
      "2           Казань      Вера   3   35\n",
      "3      Новосибирск  Григорий   4   40\n"
     ]
    }
   ],
   "source": [
    "# Создадим DataFrame для демонстрации\n",
    "print(\"## Индексация и срезы в DataFrame:\")\n",
    "df = pd.DataFrame({\n",
    "    'A': [1, 2, 3, 4, 5],\n",
    "    'B': [10, 20, 30, 40, 50],\n",
    "    'C': [100, 200, 300, 400, 500]\n",
    "}, index=['row1', 'row2', 'row3', 'row4', 'row5'])\n",
    "print(df)\n",
    "print()\n",
    "\n",
    "# Доступ к столбцам\n",
    "print(\"## Доступ к столбцам:\")\n",
    "print(\"Столбец 'A':\")\n",
    "print(df['A'])\n",
    "print(\"\\nНесколько столбцов:\")\n",
    "print(df[['A', 'C']])\n",
    "print()\n",
    "\n",
    "# Доступ к строкам по индексу\n",
    "print(\"## Доступ к строкам по индексу:\")\n",
    "print(\"Первые 2 строки:\")\n",
    "print(df[:2])\n",
    "print()\n",
    "\n",
    "# loc vs iloc\n",
    "print(\"## loc vs iloc:\")\n",
    "print(\"loc - индексация по меткам:\")\n",
    "print(\"df.loc['row2']:\")\n",
    "print(df.loc['row2'])\n",
    "print(\"\\ndf.loc['row1':'row3', 'A':'B']:\")\n",
    "print(df.loc['row1':'row3', 'A':'B'])\n",
    "print()\n",
    "\n",
    "print(\"iloc - индексация по позициям:\")\n",
    "print(\"df.iloc[1]:\")\n",
    "print(df.iloc[1])\n",
    "print(\"\\ndf.iloc[0:3, 0:2]:\")\n",
    "print(df.iloc[0:3, 0:2])\n",
    "print()\n",
    "\n",
    "# Условная индексация\n",
    "print(\"## Условная индексация:\")\n",
    "print(\"Строки, где A > 2:\")\n",
    "print(df[df['A'] > 2])\n",
    "print()\n",
    "\n",
    "# Многоуровневая индексация\n",
    "print(\"## Многоуровневая индексация:\")\n",
    "# Создаем DataFrame с многоуровневым индексом\n",
    "multi_index = pd.MultiIndex.from_tuples([\n",
    "    ('A', 'один'), ('A', 'два'), \n",
    "    ('B', 'один'), ('B', 'два'), ('B', 'три')\n",
    "], names=['Первый уровень', 'Второй уровень'])\n",
    "\n",
    "df_multi = pd.DataFrame({\n",
    "    'Значение': [10, 20, 30, 40, 50]\n",
    "}, index=multi_index)\n",
    "\n",
    "print(df_multi)\n",
    "print()\n",
    "\n",
    "# Доступ к данным в многоуровневом индексе\n",
    "print(\"## Доступ к данным в многоуровневом индексе:\")\n",
    "print(\"df_multi.loc['A']:\")\n",
    "print(df_multi.loc['A'])\n",
    "print(\"\\ndf_multi.loc[('A', 'один')]:\")\n",
    "print(df_multi.loc[('A', 'один')])\n",
    "print()\n",
    "\n",
    "# Установка и сброс индекса\n",
    "print(\"## Установка и сброс индекса:\")\n",
    "print(\"Исходный DataFrame:\")\n",
    "print(df4)\n",
    "print(\"\\nУстановка столбца 'name' в качестве индекса:\")\n",
    "df_indexed = df4.set_index('name')\n",
    "print(df_indexed)\n",
    "print(\"\\nСброс индекса обратно в столбец:\")\n",
    "df_reset = df_indexed.reset_index()\n",
    "print(df_reset)\n",
    "print()\n",
    "\n",
    "# Установка нескольких уровней индекса\n",
    "print(\"## Установка нескольких уровней индекса:\")\n",
    "df_multi_indexed = df4.set_index(['city', 'name'])\n",
    "print(df_multi_indexed)\n",
    "print(\"\\nСброс всех уровней индекса:\")\n",
    "print(df_multi_indexed.reset_index())\n"
   ]
  },
  {
   "cell_type": "markdown",
   "metadata": {},
   "source": [
    "### Merge dataframes"
   ]
  },
  {
   "cell_type": "code",
   "execution_count": 30,
   "metadata": {},
   "outputs": [
    {
     "name": "stdout",
     "output_type": "stream",
     "text": [
      "## Объединение и соединение DataFrame:\n",
      "### Исходные DataFrame:\n",
      "DataFrame A:\n",
      "  key   A   B\n",
      "0  K0  A0  B0\n",
      "1  K1  A1  B1\n",
      "2  K2  A2  B2\n",
      "3  K3  A3  B3\n",
      "\n",
      "DataFrame B:\n",
      "  key   C   D\n",
      "0  K0  C0  D0\n",
      "1  K1  C1  D1\n",
      "2  K2  C2  D2\n",
      "3  K4  C3  D3\n",
      "\n"
     ]
    }
   ],
   "source": [
    "print(\"## Объединение и соединение DataFrame:\")\n",
    "\n",
    "# Создаем два DataFrame для демонстрации\n",
    "print(\"### Исходные DataFrame:\")\n",
    "df_a = pd.DataFrame({\n",
    "    'key': ['K0', 'K1', 'K2', 'K3'],\n",
    "    'A': ['A0', 'A1', 'A2', 'A3'],\n",
    "    'B': ['B0', 'B1', 'B2', 'B3']\n",
    "})\n",
    "\n",
    "df_b = pd.DataFrame({\n",
    "    'key': ['K0', 'K1', 'K2', 'K4'],\n",
    "    'C': ['C0', 'C1', 'C2', 'C3'],\n",
    "    'D': ['D0', 'D1', 'D2', 'D3']\n",
    "})\n",
    "\n",
    "print(\"DataFrame A:\")\n",
    "print(df_a)\n",
    "print(\"\\nDataFrame B:\")\n",
    "print(df_b)\n",
    "print()"
   ]
  },
  {
   "cell_type": "code",
   "execution_count": 31,
   "metadata": {},
   "outputs": [
    {
     "name": "stdout",
     "output_type": "stream",
     "text": [
      "### Метод concat() - вертикальное объединение DataFrame:\n",
      "  key    A    B    C    D\n",
      "0  K0   A0   B0  NaN  NaN\n",
      "1  K1   A1   B1  NaN  NaN\n",
      "2  K2   A2   B2  NaN  NaN\n",
      "3  K3   A3   B3  NaN  NaN\n",
      "4  K0  NaN  NaN   C0   D0\n",
      "5  K1  NaN  NaN   C1   D1\n",
      "6  K2  NaN  NaN   C2   D2\n",
      "7  K4  NaN  NaN   C3   D3\n",
      "\n",
      "### Метод concat() - горизонтальное объединение DataFrame (axis=1):\n",
      "  key   A   B key   C   D\n",
      "0  K0  A0  B0  K0  C0  D0\n",
      "1  K1  A1  B1  K1  C1  D1\n",
      "2  K2  A2  B2  K2  C2  D2\n",
      "3  K3  A3  B3  K4  C3  D3\n",
      "\n"
     ]
    }
   ],
   "source": [
    "\n",
    "# Метод concat() - объединение DataFrame\n",
    "print(\"### Метод concat() - вертикальное объединение DataFrame:\")\n",
    "result_concat = pd.concat([df_a, df_b], ignore_index=True)\n",
    "print(result_concat)\n",
    "print()\n",
    "\n",
    "print(\"### Метод concat() - горизонтальное объединение DataFrame (axis=1):\")\n",
    "result_concat_horizontal = pd.concat([df_a, df_b], axis=1)\n",
    "print(result_concat_horizontal)\n",
    "print()"
   ]
  },
  {
   "cell_type": "code",
   "execution_count": 32,
   "metadata": {},
   "outputs": [
    {
     "name": "stdout",
     "output_type": "stream",
     "text": [
      "### Метод merge() - соединение DataFrame по ключу:\n",
      "\n",
      "Внутреннее соединение (inner join):\n",
      "  key   A   B   C   D\n",
      "0  K0  A0  B0  C0  D0\n",
      "1  K1  A1  B1  C1  D1\n",
      "2  K2  A2  B2  C2  D2\n",
      "\n",
      "Левое соединение (left join):\n",
      "  key   A   B    C    D\n",
      "0  K0  A0  B0   C0   D0\n",
      "1  K1  A1  B1   C1   D1\n",
      "2  K2  A2  B2   C2   D2\n",
      "3  K3  A3  B3  NaN  NaN\n",
      "\n",
      "Правое соединение (right join):\n",
      "  key    A    B   C   D\n",
      "0  K0   A0   B0  C0  D0\n",
      "1  K1   A1   B1  C1  D1\n",
      "2  K2   A2   B2  C2  D2\n",
      "3  K4  NaN  NaN  C3  D3\n",
      "\n",
      "Внешнее соединение (outer join):\n",
      "  key    A    B    C    D\n",
      "0  K0   A0   B0   C0   D0\n",
      "1  K1   A1   B1   C1   D1\n",
      "2  K2   A2   B2   C2   D2\n",
      "3  K3   A3   B3  NaN  NaN\n",
      "4  K4  NaN  NaN   C3   D3\n",
      "\n"
     ]
    }
   ],
   "source": [
    "\n",
    "# Метод merge() - соединение DataFrame по ключу\n",
    "print(\"### Метод merge() - соединение DataFrame по ключу:\")\n",
    "print(\"\\nВнутреннее соединение (inner join):\")\n",
    "result_inner = pd.merge(df_a, df_b, on='key', how='inner')\n",
    "print(result_inner)\n",
    "print()\n",
    "\n",
    "print(\"Левое соединение (left join):\")\n",
    "result_left = pd.merge(df_a, df_b, on='key', how='left')\n",
    "print(result_left)\n",
    "print()\n",
    "\n",
    "print(\"Правое соединение (right join):\")\n",
    "result_right = pd.merge(df_a, df_b, on='key', how='right')\n",
    "print(result_right)\n",
    "print()\n",
    "\n",
    "print(\"Внешнее соединение (outer join):\")\n",
    "result_outer = pd.merge(df_a, df_b, on='key', how='outer')\n",
    "print(result_outer)\n",
    "print()"
   ]
  },
  {
   "cell_type": "code",
   "execution_count": 33,
   "metadata": {},
   "outputs": [
    {
     "name": "stdout",
     "output_type": "stream",
     "text": [
      "### Метод join() - соединение DataFrame по индексу:\n",
      "DataFrame C (с индексом 'key'):\n",
      "      A   B\n",
      "key        \n",
      "K0   A0  B0\n",
      "K1   A1  B1\n",
      "K2   A2  B2\n",
      "K3   A3  B3\n",
      "\n",
      "DataFrame D (с индексом 'key'):\n",
      "      C   D\n",
      "key        \n",
      "K0   C0  D0\n",
      "K1   C1  D1\n",
      "K2   C2  D2\n",
      "K4   C3  D3\n",
      "\n",
      "Соединение по индексу:\n",
      "      A   B   C   D\n",
      "key                \n",
      "K0   A0  B0  C0  D0\n",
      "K1   A1  B1  C1  D1\n",
      "K2   A2  B2  C2  D2\n",
      "\n",
      "Левое соединение по индексу:\n",
      "      A   B    C    D\n",
      "key                  \n",
      "K0   A0  B0   C0   D0\n",
      "K1   A1  B1   C1   D1\n",
      "K2   A2  B2   C2   D2\n",
      "K3   A3  B3  NaN  NaN\n",
      "\n"
     ]
    }
   ],
   "source": [
    "\n",
    "# Метод join() - соединение DataFrame по индексу\n",
    "print(\"### Метод join() - соединение DataFrame по индексу:\")\n",
    "df_c = df_a.set_index('key')\n",
    "df_d = df_b.set_index('key')\n",
    "\n",
    "print(\"DataFrame C (с индексом 'key'):\")\n",
    "print(df_c)\n",
    "print(\"\\nDataFrame D (с индексом 'key'):\")\n",
    "print(df_d)\n",
    "print()\n",
    "\n",
    "print(\"Соединение по индексу:\")\n",
    "result_join = df_c.join(df_d, how='inner')\n",
    "print(result_join)\n",
    "print()\n",
    "\n",
    "print(\"Левое соединение по индексу:\")\n",
    "result_join_left = df_c.join(df_d, how='left')\n",
    "print(result_join_left)\n",
    "print()"
   ]
  },
  {
   "cell_type": "code",
   "execution_count": 34,
   "metadata": {},
   "outputs": [
    {
     "name": "stdout",
     "output_type": "stream",
     "text": [
      "### Практический пример объединения данных:\n",
      "Таблица клиентов:\n",
      "   customer_id      name\n",
      "0            1      Анна\n",
      "1            2     Борис\n",
      "2            3      Вера\n",
      "3            4  Григорий\n",
      "4            5     Дарья\n",
      "\n",
      "Таблица заказов:\n",
      "   order_id  customer_id  amount\n",
      "0       101            1    1000\n",
      "1       102            2     500\n",
      "2       103            3    2000\n",
      "3       104            1     750\n",
      "\n",
      "Объединение данных о клиентах и их заказах:\n",
      "   customer_id   name  order_id  amount\n",
      "0            1   Анна       101    1000\n",
      "1            1   Анна       104     750\n",
      "2            2  Борис       102     500\n",
      "3            3   Вера       103    2000\n"
     ]
    }
   ],
   "source": [
    "\n",
    "# Пример практического использования\n",
    "print(\"### Практический пример объединения данных:\")\n",
    "customers = pd.DataFrame({\n",
    "    'customer_id': [1, 2, 3, 4, 5],\n",
    "    'name': ['Анна', 'Борис', 'Вера', 'Григорий', 'Дарья']\n",
    "})\n",
    "\n",
    "orders = pd.DataFrame({\n",
    "    'order_id': [101, 102, 103, 104],\n",
    "    'customer_id': [1, 2, 3, 1],\n",
    "    'amount': [1000, 500, 2000, 750]\n",
    "})\n",
    "\n",
    "print(\"Таблица клиентов:\")\n",
    "print(customers)\n",
    "print(\"\\nТаблица заказов:\")\n",
    "print(orders)\n",
    "print()\n",
    "\n",
    "print(\"Объединение данных о клиентах и их заказах:\")\n",
    "customer_orders = pd.merge(customers, orders, on='customer_id')\n",
    "print(customer_orders)\n"
   ]
  },
  {
   "cell_type": "markdown",
   "metadata": {},
   "source": [
    "### Performance"
   ]
  },
  {
   "cell_type": "code",
   "execution_count": 46,
   "metadata": {},
   "outputs": [],
   "source": [
    "import numpy as np\n",
    "import time\n",
    "import sys"
   ]
  },
  {
   "cell_type": "code",
   "execution_count": 38,
   "metadata": {},
   "outputs": [
    {
     "name": "stdout",
     "output_type": "stream",
     "text": [
      "### Сравнение производительности: Pandas vs Python\n",
      "Тестирование на 1,000,000 элементах\n"
     ]
    }
   ],
   "source": [
    "\n",
    "# Сравнение производительности: Pandas vs традиционные структуры данных Python\n",
    "print(\"### Сравнение производительности: Pandas vs Python\")\n",
    "\n",
    "# Создаем тестовые данные\n",
    "n = 1_000_000\n",
    "print(f\"Тестирование на {n:,} элементах\")"
   ]
  },
  {
   "cell_type": "code",
   "execution_count": 39,
   "metadata": {},
   "outputs": [
    {
     "name": "stdout",
     "output_type": "stream",
     "text": [
      "\n",
      "1. Скорость создания структур данных:\n",
      "Python список: 0.0187 сек\n",
      "NumPy массив: 0.0013 сек\n",
      "Pandas Series: 0.0015 сек\n"
     ]
    }
   ],
   "source": [
    "\n",
    "# 1. Сравнение скорости создания структур данных\n",
    "print(\"\\n1. Скорость создания структур данных:\")\n",
    "\n",
    "start = time.time()\n",
    "python_list = list(range(n))\n",
    "python_time = time.time() - start\n",
    "print(f\"Python список: {python_time:.4f} сек\")\n",
    "\n",
    "start = time.time()\n",
    "numpy_array = np.arange(n)\n",
    "numpy_time = time.time() - start\n",
    "print(f\"NumPy массив: {numpy_time:.4f} сек\")\n",
    "\n",
    "start = time.time()\n",
    "pandas_series = pd.Series(np.arange(n))\n",
    "pandas_time = time.time() - start\n",
    "print(f\"Pandas Series: {pandas_time:.4f} сек\")"
   ]
  },
  {
   "cell_type": "code",
   "execution_count": 40,
   "metadata": {},
   "outputs": [
    {
     "name": "stdout",
     "output_type": "stream",
     "text": [
      "\n",
      "2. Векторизованные операции vs циклы:\n",
      "Python цикл: 0.0683 сек\n",
      "Python list comprehension: 0.0201 сек\n",
      "NumPy векторизация: 0.0018 сек\n",
      "Pandas векторизация: 0.0024 сек\n",
      "\n",
      "Ускорение NumPy vs Python цикл: 38.8x\n",
      "Ускорение Pandas vs Python цикл: 28.1x\n"
     ]
    }
   ],
   "source": [
    "# 2. Сравнение векторизованных операций и циклов\n",
    "print(\"\\n2. Векторизованные операции vs циклы:\")\n",
    "\n",
    "# Python цикл\n",
    "start = time.time()\n",
    "result_list = []\n",
    "for i in python_list:\n",
    "    result_list.append(i * 2)\n",
    "python_loop_time = time.time() - start\n",
    "print(f\"Python цикл: {python_loop_time:.4f} сек\")\n",
    "\n",
    "# Python list comprehension\n",
    "start = time.time()\n",
    "result_list_comp = [i * 2 for i in python_list]\n",
    "python_comp_time = time.time() - start\n",
    "print(f\"Python list comprehension: {python_comp_time:.4f} сек\")\n",
    "\n",
    "# NumPy векторизация\n",
    "start = time.time()\n",
    "result_numpy = numpy_array * 2\n",
    "numpy_vec_time = time.time() - start\n",
    "print(f\"NumPy векторизация: {numpy_vec_time:.4f} сек\")\n",
    "\n",
    "# Pandas векторизация\n",
    "start = time.time()\n",
    "result_pandas = pandas_series * 2\n",
    "pandas_vec_time = time.time() - start\n",
    "print(f\"Pandas векторизация: {pandas_vec_time:.4f} сек\")\n",
    "\n",
    "# Сравнение ускорения\n",
    "print(f\"\\nУскорение NumPy vs Python цикл: {python_loop_time/numpy_vec_time:.1f}x\")\n",
    "print(f\"Ускорение Pandas vs Python цикл: {python_loop_time/pandas_vec_time:.1f}x\")"
   ]
  },
  {
   "cell_type": "code",
   "execution_count": 43,
   "metadata": {},
   "outputs": [
    {
     "name": "stdout",
     "output_type": "stream",
     "text": [
      "\n",
      "3. Использование памяти:\n",
      "Python список: 7.63 МБ\n",
      "NumPy массив: 7.63 МБ\n",
      "Pandas Series: 7.63 МБ\n",
      "\n",
      "4. Эффективность при фильтрации данных:\n",
      "Python фильтрация: 0.0656 сек\n",
      "Pandas фильтрация: 0.0062 сек\n",
      "\n",
      "Ускорение Pandas vs Python цикл: 10.6x\n"
     ]
    }
   ],
   "source": [
    "\n",
    "# 3. Использование памяти\n",
    "print(\"\\n3. Использование памяти:\")\n",
    "\n",
    "# Функция для измерения размера объекта\n",
    "def get_size(obj):\n",
    "    return sys.getsizeof(obj)\n",
    "\n",
    "print(f\"Python список: {get_size(python_list) / (1024*1024):.2f} МБ\")\n",
    "print(f\"NumPy массив: {get_size(numpy_array) / (1024*1024):.2f} МБ\")\n",
    "print(f\"Pandas Series: {get_size(pandas_series) / (1024*1024):.2f} МБ\")\n",
    "\n",
    "# 4. Демонстрация эффективности при фильтрации данных\n",
    "print(\"\\n4. Эффективность при фильтрации данных:\")\n",
    "\n",
    "# Создаем DataFrame с несколькими столбцами для демонстрации\n",
    "df = pd.DataFrame({\n",
    "    'A': np.random.rand(n),\n",
    "    'B': np.random.rand(n),\n",
    "    'C': np.random.rand(n)\n",
    "})\n",
    "\n",
    "# Python фильтрация\n",
    "start = time.time()\n",
    "filtered_list = [i for i, val in enumerate(python_list) if val > n/2]\n",
    "python_filter_time = time.time() - start\n",
    "print(f\"Python фильтрация: {python_filter_time:.4f} сек\")\n",
    "\n",
    "# Pandas фильтрация\n",
    "start = time.time()\n",
    "filtered_df = df[df['A'] > 0.5]\n",
    "pandas_filter_time = time.time() - start\n",
    "print(f\"Pandas фильтрация: {pandas_filter_time:.4f} сек\")\n",
    "print()\n",
    "print(f\"Ускорение Pandas vs Python цикл: {python_filter_time/pandas_filter_time:.1f}x\")\n"
   ]
  }
 ],
 "metadata": {
  "kernelspec": {
   "display_name": "Numpy_Edu",
   "language": "python",
   "name": "numpy_edu"
  },
  "language_info": {
   "codemirror_mode": {
    "name": "ipython",
    "version": 3
   },
   "file_extension": ".py",
   "mimetype": "text/x-python",
   "name": "python",
   "nbconvert_exporter": "python",
   "pygments_lexer": "ipython3",
   "version": "3.11.0"
  }
 },
 "nbformat": 4,
 "nbformat_minor": 4
}
