{
 "cells": [
  {
   "cell_type": "code",
   "execution_count": 27,
   "metadata": {
    "tags": []
   },
   "outputs": [],
   "source": [
    "import numpy as np\n",
    "import matplotlib.pyplot as plt"
   ]
  },
  {
   "cell_type": "code",
   "execution_count": 2,
   "metadata": {
    "tags": []
   },
   "outputs": [
    {
     "name": "stdout",
     "output_type": "stream",
     "text": [
      "1. Basic array creation:\n",
      "1D array: [1 2 3 4 5]\n",
      "Shape: (5,), Dimensions: 1, Data type: int64\n",
      "\n",
      "2D array:\n",
      "[[1 2 3]\n",
      " [4 5 6]]\n",
      "Shape: (2, 3), Dimensions: 2\n"
     ]
    }
   ],
   "source": [
    "# Array creation methods\n",
    "print(\"1. Basic array creation:\")\n",
    "a = np.array([1, 2, 3, 4, 5])\n",
    "print(f\"1D array: {a}\")\n",
    "print(f\"Shape: {a.shape}, Dimensions: {a.ndim}, Data type: {a.dtype}\")\n",
    "\n",
    "b = np.array([[1, 2, 3], [4, 5, 6]])\n",
    "print(f\"\\n2D array:\\n{b}\")\n",
    "print(f\"Shape: {b.shape}, Dimensions: {b.ndim}\")\n"
   ]
  },
  {
   "cell_type": "code",
   "execution_count": 4,
   "metadata": {
    "tags": []
   },
   "outputs": [
    {
     "name": "stdout",
     "output_type": "stream",
     "text": [
      "\n",
      "2. Array creation functions:\n",
      "Zeros: \n",
      "[[0. 0. 0.]\n",
      " [0. 0. 0.]]\n",
      "Ones: \n",
      "[[1. 1.]\n",
      " [1. 1.]]\n",
      "Identity matrix: \n",
      "[[1. 0. 0.]\n",
      " [0. 1. 0.]\n",
      " [0. 0. 1.]]\n",
      "Range array: [0 2 4 6 8]\n",
      "Linearly spaced: [0.   0.25 0.5  0.75 1.  ]\n",
      "Random array: \n",
      "[[0.63897738 0.81893354]\n",
      " [0.13838148 0.56890819]]\n"
     ]
    }
   ],
   "source": [
    "# Array creation functions\n",
    "print(\"\\n2. Array creation functions:\")\n",
    "print(f\"Zeros: \\n{np.zeros((2, 3))}\")\n",
    "print(f\"Ones: \\n{np.ones((2, 2))}\")\n",
    "print(f\"Identity matrix: \\n{np.eye(3)}\")\n",
    "print(f\"Range array: {np.arange(0, 10, 2)}\")\n",
    "print(f\"Linearly spaced: {np.linspace(0, 1, 5)}\")\n",
    "print(f\"Random array: \\n{np.random.rand(2, 2)}\")"
   ]
  },
  {
   "cell_type": "code",
   "execution_count": 7,
   "metadata": {
    "tags": []
   },
   "outputs": [
    {
     "name": "stdout",
     "output_type": "stream",
     "text": [
      "\n",
      "3. Array manipulation:\n",
      "Original array: [1 2 3 4 5 6] (6,)\n",
      "Reshaped to 2x3: \n",
      "[[1 2 3]\n",
      " [4 5 6]]\n",
      "Reshaped to 3x2: \n",
      "[[1 2]\n",
      " [3 4]\n",
      " [5 6]]\n",
      "Transposed 2x3 array: \n",
      "[[1 4]\n",
      " [2 5]\n",
      " [3 6]]\n"
     ]
    }
   ],
   "source": [
    "# Array manipulation\n",
    "print(\"\\n3. Array manipulation:\")\n",
    "c = np.array([1, 2, 3, 4, 5, 6])\n",
    "print(f\"Original array: {c}\", c.shape)\n",
    "print(f\"Reshaped to 2x3: \\n{c.reshape(2, 3)}\")\n",
    "print(f\"Reshaped to 3x2: \\n{c.reshape(3, 2)}\")\n",
    "print(f\"Transposed 2x3 array: \\n{c.reshape(2, 3).T}\")"
   ]
  },
  {
   "cell_type": "code",
   "execution_count": 8,
   "metadata": {
    "tags": []
   },
   "outputs": [
    {
     "name": "stdout",
     "output_type": "stream",
     "text": [
      "\n",
      "4. Array slicing:\n",
      "Original array:\n",
      "[[ 1  2  3  4]\n",
      " [ 5  6  7  8]\n",
      " [ 9 10 11 12]]\n",
      "First row: [1 2 3 4]\n",
      "First column: [1 5 9]\n",
      "Subarray (first 2 rows, last 2 columns):\n",
      "[[3 4]\n",
      " [7 8]]\n"
     ]
    }
   ],
   "source": [
    "# Array slicing\n",
    "print(\"\\n4. Array slicing:\")\n",
    "d = np.array([[1, 2, 3, 4], [5, 6, 7, 8], [9, 10, 11, 12]])\n",
    "print(f\"Original array:\\n{d}\")\n",
    "print(f\"First row: {d[0]}\")\n",
    "print(f\"First column: {d[:, 0]}\")\n",
    "print(f\"Subarray (first 2 rows, last 2 columns):\\n{d[:2, 2:]}\")"
   ]
  },
  {
   "cell_type": "code",
   "execution_count": 9,
   "metadata": {
    "tags": []
   },
   "outputs": [
    {
     "name": "stdout",
     "output_type": "stream",
     "text": [
      "\n",
      "5. Array operations:\n",
      "(3,) (3,)\n",
      "a1: [1 2 3], a2: [4 5 6]\n",
      "a1 + a2: [5 7 9]\n",
      "a1 * a2 (element-wise): [ 4 10 18]\n",
      "Dot product: 32\n"
     ]
    }
   ],
   "source": [
    "# Array operations\n",
    "print(\"\\n5. Array operations:\")\n",
    "a1 = np.array([1, 2, 3])\n",
    "a2 = np.array([4, 5, 6])\n",
    "print(a1.shape, a2.shape)\n",
    "print(f\"a1: {a1}, a2: {a2}\")\n",
    "print(f\"a1 + a2: {a1 + a2}\")\n",
    "print(f\"a1 * a2 (element-wise): {a1 * a2}\")\n",
    "print(f\"Dot product: {np.dot(a1, a2)}\")"
   ]
  },
  {
   "cell_type": "code",
   "execution_count": 10,
   "metadata": {
    "tags": []
   },
   "outputs": [
    {
     "name": "stdout",
     "output_type": "stream",
     "text": [
      "\n",
      "6. Broadcasting:\n",
      "(2, 3) (3,)\n",
      "Original array:\n",
      "[[1 2 3]\n",
      " [4 5 6]]\n",
      "Add scalar 10: \n",
      "[[11 12 13]\n",
      " [14 15 16]]\n",
      "Multiply by vector [10, 100, 1000]: \n",
      "[[  10  200 3000]\n",
      " [  40  500 6000]]\n"
     ]
    }
   ],
   "source": [
    "# Demonstrate broadcasting\n",
    "print(\"\\n6. Broadcasting:\")\n",
    "x = np.array([[1, 2, 3], [4, 5, 6]])\n",
    "factor = np.array([10, 100, 1000])\n",
    "print(x.shape, factor.shape)\n",
    "print(f\"Original array:\\n{x}\")\n",
    "print(f\"Add scalar 10: \\n{x + 10}\")\n",
    "print(f\"Multiply by vector [10, 100, 1000]: \\n{x * factor}\")"
   ]
  },
  {
   "cell_type": "code",
   "execution_count": 11,
   "metadata": {
    "tags": []
   },
   "outputs": [
    {
     "name": "stdout",
     "output_type": "stream",
     "text": [
      "\n",
      "7. Performance comparison: NumPy vs Python lists\n",
      "Python list multiplication time: 0.044192 seconds\n",
      "NumPy array multiplication time: 0.003154 seconds\n",
      "NumPy is approximately 14.0x faster than Python lists\n",
      "\n",
      "Python list sum time: 0.003752 seconds\n",
      "NumPy array sum time: 0.001176 seconds\n",
      "NumPy sum is approximately 3.2x faster\n"
     ]
    }
   ],
   "source": [
    "# Performance comparison: NumPy vs Python lists\n",
    "print(\"\\n7. Performance comparison: NumPy vs Python lists\")\n",
    "\n",
    "import time\n",
    "\n",
    "# Size of arrays/lists for comparison\n",
    "size = 1000000\n",
    "\n",
    "# Create Python list and NumPy array\n",
    "python_list = list(range(size))\n",
    "numpy_array = np.array(range(size))\n",
    "\n",
    "# Measure time for Python list operations\n",
    "start_time = time.time()\n",
    "python_result = [x * 2 for x in python_list]\n",
    "python_time = time.time() - start_time\n",
    "print(f\"Python list multiplication time: {python_time:.6f} seconds\")\n",
    "\n",
    "# Measure time for NumPy array operations\n",
    "start_time = time.time()\n",
    "numpy_result = numpy_array * 2\n",
    "numpy_time = time.time() - start_time\n",
    "print(f\"NumPy array multiplication time: {numpy_time:.6f} seconds\")\n",
    "\n",
    "# Calculate and display the speedup\n",
    "speedup = python_time / numpy_time\n",
    "print(f\"NumPy is approximately {speedup:.1f}x faster than Python lists\")\n",
    "\n",
    "# Demonstrate sum operation comparison\n",
    "start_time = time.time()\n",
    "python_sum = sum(python_list)\n",
    "python_sum_time = time.time() - start_time\n",
    "print(f\"\\nPython list sum time: {python_sum_time:.6f} seconds\")\n",
    "\n",
    "start_time = time.time()\n",
    "numpy_sum = np.sum(numpy_array)\n",
    "numpy_sum_time = time.time() - start_time\n",
    "print(f\"NumPy array sum time: {numpy_sum_time:.6f} seconds\")\n",
    "print(f\"NumPy sum is approximately {python_sum_time / numpy_sum_time:.1f}x faster\")\n"
   ]
  },
  {
   "cell_type": "markdown",
   "metadata": {},
   "source": [
    "### Elementwise multiplication vs. Matrix multiplication"
   ]
  },
  {
   "cell_type": "code",
   "execution_count": 12,
   "metadata": {
    "tags": []
   },
   "outputs": [
    {
     "name": "stdout",
     "output_type": "stream",
     "text": [
      "\n",
      "8. Elementwise multiplication on matrices\n",
      "(3, 3) (3, 3)\n",
      "Matrix A:\n",
      "[[1 2 3]\n",
      " [4 5 6]\n",
      " [7 8 9]]\n",
      "\n",
      "Matrix B:\n",
      "[[9 8 7]\n",
      " [6 5 4]\n",
      " [3 2 1]]\n",
      "\n",
      "Elementwise multiplication (A * B):\n",
      "[[ 9 16 21]\n",
      " [24 25 24]\n",
      " [21 16  9]]\n",
      "\n",
      "Sum of all elements in the result matrix: 165\n",
      "\n",
      "Alternative ways to calculate the sum:\n",
      "Using .sum() method: 165\n",
      "Using np.sum() function: 165\n"
     ]
    }
   ],
   "source": [
    "# Demonstrate elementwise multiplication on a 3x3 matrix\n",
    "print(\"\\n8. Elementwise multiplication on matrices\")\n",
    "\n",
    "# Create a 3x3 matrix\n",
    "matrix_a = np.array([[1, 2, 3], \n",
    "                     [4, 5, 6], \n",
    "                     [7, 8, 9]])\n",
    "\n",
    "matrix_b = np.array([[9, 8, 7], \n",
    "                     [6, 5, 4], \n",
    "                     [3, 2, 1]])\n",
    "\n",
    "print(matrix_a.shape, matrix_b.shape)\n",
    "print(\"Matrix A:\")\n",
    "print(matrix_a)\n",
    "print(\"\\nMatrix B:\")\n",
    "print(matrix_b)\n",
    "\n",
    "# Perform elementwise multiplication\n",
    "result = matrix_a * matrix_b\n",
    "print(\"\\nElementwise multiplication (A * B):\")\n",
    "print(result)\n",
    "\n",
    "# Sum of all elements in the result matrix\n",
    "total_sum = np.sum(result)\n",
    "print(f\"\\nSum of all elements in the result matrix: {total_sum}\")\n",
    "\n",
    "# Alternative ways to calculate the sum\n",
    "print(\"\\nAlternative ways to calculate the sum:\")\n",
    "print(f\"Using .sum() method: {result.sum()}\")\n",
    "print(f\"Using np.sum() function: {np.sum(result)}\")\n"
   ]
  },
  {
   "cell_type": "code",
   "execution_count": 18,
   "metadata": {
    "tags": []
   },
   "outputs": [
    {
     "data": {
      "text/plain": [
       "((3, 3), (3, 3))"
      ]
     },
     "execution_count": 18,
     "metadata": {},
     "output_type": "execute_result"
    }
   ],
   "source": [
    "a = matrix_a\n",
    "b = matrix_b\n",
    "a.shape, b.shape"
   ]
  },
  {
   "cell_type": "code",
   "execution_count": 23,
   "metadata": {
    "tags": []
   },
   "outputs": [
    {
     "data": {
      "text/plain": [
       "((2, 3), (3, 1))"
      ]
     },
     "execution_count": 23,
     "metadata": {},
     "output_type": "execute_result"
    }
   ],
   "source": [
    "a = matrix_a[:2]\n",
    "b = matrix_b[:, 2:]\n",
    "a.shape, b.shape\n",
    "# a, b"
   ]
  },
  {
   "cell_type": "code",
   "execution_count": 24,
   "metadata": {
    "tags": []
   },
   "outputs": [
    {
     "data": {
      "text/plain": [
       "((2, 1),\n",
       " array([[18],\n",
       "        [54]]))"
      ]
     },
     "execution_count": 24,
     "metadata": {},
     "output_type": "execute_result"
    }
   ],
   "source": [
    "c = a @ b\n",
    "c.shape, c"
   ]
  },
  {
   "cell_type": "code",
   "execution_count": 13,
   "metadata": {
    "tags": []
   },
   "outputs": [
    {
     "name": "stdout",
     "output_type": "stream",
     "text": [
      "\n",
      "9. Matrix multiplication\n",
      "Matrix A:\n",
      "[[1 2 3]\n",
      " [4 5 6]\n",
      " [7 8 9]]\n",
      "\n",
      "Matrix B:\n",
      "[[9 8 7]\n",
      " [6 5 4]\n",
      " [3 2 1]]\n",
      "\n",
      "Matrix multiplication (A @ B):\n",
      "[[ 30  24  18]\n",
      " [ 84  69  54]\n",
      " [138 114  90]]\n",
      "\n",
      "Alternative ways to perform matrix multiplication:\n",
      "Using np.matmul():\n",
      "[[ 30  24  18]\n",
      " [ 84  69  54]\n",
      " [138 114  90]]\n",
      "\n",
      "Using np.dot():\n",
      "[[ 30  24  18]\n",
      " [ 84  69  54]\n",
      " [138 114  90]]\n",
      "\n",
      "Note: Matrix multiplication is different from elementwise multiplication:\n",
      "- Matrix multiplication (A @ B): Each element is the dot product of a row from A and a column from B\n",
      "- Elementwise multiplication (A * B): Each element is simply the product of corresponding elements\n",
      "\n",
      "Shape of the result matrix: (3, 3)\n",
      "Sum of all elements in the result matrix: 621\n"
     ]
    }
   ],
   "source": [
    "# Demonstrate matrix multiplication\n",
    "print(\"\\n9. Matrix multiplication\")\n",
    "\n",
    "# Using the same matrices from the previous example\n",
    "print(\"Matrix A:\")\n",
    "print(matrix_a)\n",
    "print(\"\\nMatrix B:\")\n",
    "print(matrix_b)\n",
    "\n",
    "# Perform matrix multiplication using the @ operator\n",
    "matrix_mult_result = matrix_a @ matrix_b\n",
    "print(\"\\nMatrix multiplication (A @ B):\")\n",
    "print(matrix_mult_result)\n",
    "\n",
    "# Alternative ways to perform matrix multiplication\n",
    "print(\"\\nAlternative ways to perform matrix multiplication:\")\n",
    "print(\"Using np.matmul():\")\n",
    "print(np.matmul(matrix_a, matrix_b))\n",
    "\n",
    "print(\"\\nUsing np.dot():\")\n",
    "print(np.dot(matrix_a, matrix_b))\n",
    "\n",
    "# Explain the difference between matrix multiplication and elementwise multiplication\n",
    "print(\"\\nNote: Matrix multiplication is different from elementwise multiplication:\")\n",
    "print(\"- Matrix multiplication (A @ B): Each element is the dot product of a row from A and a column from B\")\n",
    "print(\"- Elementwise multiplication (A * B): Each element is simply the product of corresponding elements\")\n",
    "\n",
    "# Show the shape of the result\n",
    "print(f\"\\nShape of the result matrix: {matrix_mult_result.shape}\")\n",
    "\n",
    "# Calculate the sum of all elements in the result matrix\n",
    "print(f\"Sum of all elements in the result matrix: {matrix_mult_result.sum()}\")\n"
   ]
  },
  {
   "cell_type": "markdown",
   "metadata": {},
   "source": [
    "### Image padding"
   ]
  },
  {
   "cell_type": "code",
   "execution_count": 29,
   "metadata": {
    "collapsed": true,
    "jupyter": {
     "outputs_hidden": true
    },
    "tags": []
   },
   "outputs": [
    {
     "name": "stdout",
     "output_type": "stream",
     "text": [
      "9. Image Padding with NumPy\n",
      "Original image (5x5):\n",
      "[[  0   0   0   0   0]\n",
      " [  0 255 255 255   0]\n",
      " [  0 255 255 255   0]\n",
      " [  0 255 255 255   0]\n",
      " [  0   0   0   0   0]]\n",
      "\n",
      "Constant padding (zeros, pad_width=2):\n",
      "[[  0   0   0   0   0   0   0   0   0]\n",
      " [  0   0   0   0   0   0   0   0   0]\n",
      " [  0   0   0   0   0   0   0   0   0]\n",
      " [  0   0   0 255 255 255   0   0   0]\n",
      " [  0   0   0 255 255 255   0   0   0]\n",
      " [  0   0   0 255 255 255   0   0   0]\n",
      " [  0   0   0   0   0   0   0   0   0]\n",
      " [  0   0   0   0   0   0   0   0   0]\n",
      " [  0   0   0   0   0   0   0   0   0]]\n",
      "\n",
      "Edge padding (pad_width=2):\n",
      "[[  0   0   0   0   0   0   0   0   0]\n",
      " [  0   0   0   0   0   0   0   0   0]\n",
      " [  0   0   0   0   0   0   0   0   0]\n",
      " [  0   0   0 255 255 255   0   0   0]\n",
      " [  0   0   0 255 255 255   0   0   0]\n",
      " [  0   0   0 255 255 255   0   0   0]\n",
      " [  0   0   0   0   0   0   0   0   0]\n",
      " [  0   0   0   0   0   0   0   0   0]\n",
      " [  0   0   0   0   0   0   0   0   0]]\n",
      "\n",
      "Reflect padding (pad_width=2):\n",
      "[[255 255   0 255 255 255   0 255 255]\n",
      " [255 255   0 255 255 255   0 255 255]\n",
      " [  0   0   0   0   0   0   0   0   0]\n",
      " [255 255   0 255 255 255   0 255 255]\n",
      " [255 255   0 255 255 255   0 255 255]\n",
      " [255 255   0 255 255 255   0 255 255]\n",
      " [  0   0   0   0   0   0   0   0   0]\n",
      " [255 255   0 255 255 255   0 255 255]\n",
      " [255 255   0 255 255 255   0 255 255]]\n",
      "\n",
      "Wrap padding (pad_width=2):\n",
      "[[255   0   0 255 255 255   0   0 255]\n",
      " [  0   0   0   0   0   0   0   0   0]\n",
      " [  0   0   0   0   0   0   0   0   0]\n",
      " [255   0   0 255 255 255   0   0 255]\n",
      " [255   0   0 255 255 255   0   0 255]\n",
      " [255   0   0 255 255 255   0   0 255]\n",
      " [  0   0   0   0   0   0   0   0   0]\n",
      " [  0   0   0   0   0   0   0   0   0]\n",
      " [255   0   0 255 255 255   0   0 255]]\n"
     ]
    },
    {
     "data": {
      "image/png": "[encoded data removed]",
      "text/plain": [
       "<Figure size 1500x1000 with 6 Axes>"
      ]
     },
     "metadata": {},
     "output_type": "display_data"
    }
   ],
   "source": [
    "# Demonstrate image padding with NumPy\n",
    "print(\"9. Image Padding with NumPy\")\n",
    "# 00000000 11111111\n",
    "# Create a simple 5x5 image (small matrix)\n",
    "image = np.ones((5, 5), dtype=np.uint8) * 255\n",
    "# Add a black border to make it easier to see the padding\n",
    "image[0, :] = 0  # Top border\n",
    "image[-1, :] = 0  # Bottom border\n",
    "image[:, 0] = 0  # Left border\n",
    "image[:, -1] = 0  # Right border\n",
    "\n",
    "print(\"Original image (5x5):\")\n",
    "print(image)\n",
    "\n",
    "# Pad the image with zeros (constant padding)\n",
    "constant_padded = np.pad(image, pad_width=2, mode='constant', constant_values=0)\n",
    "print(\"\\nConstant padding (zeros, pad_width=2):\")\n",
    "print(constant_padded)\n",
    "\n",
    "# Pad the image with edge values (edge padding)\n",
    "edge_padded = np.pad(image, pad_width=2, mode='edge')\n",
    "print(\"\\nEdge padding (pad_width=2):\")\n",
    "print(edge_padded)\n",
    "\n",
    "# Pad the image with reflected values (reflect padding)\n",
    "reflect_padded = np.pad(image, pad_width=2, mode='reflect')\n",
    "print(\"\\nReflect padding (pad_width=2):\")\n",
    "print(reflect_padded)\n",
    "\n",
    "# Pad the image with wrapped values (wrap padding)\n",
    "wrap_padded = np.pad(image, pad_width=2, mode='wrap')\n",
    "print(\"\\nWrap padding (pad_width=2):\")\n",
    "print(wrap_padded)\n",
    "\n",
    "# Visualize the different padding methods\n",
    "fig, axes = plt.subplots(2, 3, figsize=(15, 10))\n",
    "axes[0, 0].imshow(image, cmap='gray')\n",
    "axes[0, 0].set_title('Original Image')\n",
    "axes[0, 1].imshow(constant_padded, cmap='gray')\n",
    "axes[0, 1].set_title('Constant Padding')\n",
    "axes[0, 2].imshow(edge_padded, cmap='gray')\n",
    "axes[0, 2].set_title('Edge Padding')\n",
    "axes[1, 0].imshow(reflect_padded, cmap='gray')\n",
    "axes[1, 0].set_title('Reflect Padding')\n",
    "axes[1, 1].imshow(wrap_padded, cmap='gray')\n",
    "axes[1, 1].set_title('Wrap Padding')\n",
    "axes[1, 2].axis('off')  # Empty subplot\n",
    "\n",
    "# # Remove ticks for cleaner visualization\n",
    "# for ax in axes.flat:\n",
    "#     ax.set_xticks([])\n",
    "#     ax.set_yticks([])\n",
    "\n",
    "plt.tight_layout()\n",
    "plt.show()"
   ]
  },
  {
   "cell_type": "code",
   "execution_count": 30,
   "metadata": {
    "tags": []
   },
   "outputs": [
    {
     "name": "stdout",
     "output_type": "stream",
     "text": [
      "\n",
      "Asymmetric padding (top=3, bottom=1, left=1, right=3):\n",
      "[[  0   0   0   0   0   0   0   0   0]\n",
      " [  0   0   0   0   0   0   0   0   0]\n",
      " [  0   0   0   0   0   0   0   0   0]\n",
      " [  0   0   0   0   0   0   0   0   0]\n",
      " [  0   0 255 255 255   0   0   0   0]\n",
      " [  0   0 255 255 255   0   0   0   0]\n",
      " [  0   0 255 255 255   0   0   0   0]\n",
      " [  0   0   0   0   0   0   0   0   0]\n",
      " [  0   0   0   0   0   0   0   0   0]]\n"
     ]
    }
   ],
   "source": [
    "# Demonstrate asymmetric padding\n",
    "asymmetric_padded = np.pad(image, pad_width=((3, 1), (1, 3)), mode='constant', constant_values=0)\n",
    "print(\"\\nAsymmetric padding (top=3, bottom=1, left=1, right=3):\")\n",
    "print(asymmetric_padded)"
   ]
  },
  {
   "cell_type": "markdown",
   "metadata": {},
   "source": [
    "### Image filtering"
   ]
  },
  {
   "cell_type": "code",
   "execution_count": 31,
   "metadata": {
    "tags": []
   },
   "outputs": [
    {
     "name": "stdout",
     "output_type": "stream",
     "text": [
      "10. Image Filtering with NumPy\n",
      "All white image (8x8):\n",
      "[[1 1 1 1 1 1 1 1]\n",
      " [1 1 1 1 1 1 1 1]\n",
      " [1 1 1 1 1 1 1 1]\n",
      " [1 1 1 1 1 1 1 1]\n",
      " [1 1 1 1 1 1 1 1]\n",
      " [1 1 1 1 1 1 1 1]\n",
      " [1 1 1 1 1 1 1 1]\n",
      " [1 1 1 1 1 1 1 1]]\n",
      "\n",
      "Image with vertical line:\n",
      "[[0 0 0 1 1 0 0 0]\n",
      " [0 0 0 1 1 0 0 0]\n",
      " [0 0 0 1 1 0 0 0]\n",
      " [0 0 0 1 1 0 0 0]\n",
      " [0 0 0 1 1 0 0 0]\n",
      " [0 0 0 1 1 0 0 0]\n",
      " [0 0 0 1 1 0 0 0]\n",
      " [0 0 0 1 1 0 0 0]]\n",
      "\n",
      "Image with horizontal line:\n",
      "[[0 0 0 0 0 0 0 0]\n",
      " [0 0 0 0 0 0 0 0]\n",
      " [0 0 0 0 0 0 0 0]\n",
      " [1 1 1 1 1 1 1 1]\n",
      " [1 1 1 1 1 1 1 1]\n",
      " [0 0 0 0 0 0 0 0]\n",
      " [0 0 0 0 0 0 0 0]\n",
      " [0 0 0 0 0 0 0 0]]\n"
     ]
    }
   ],
   "source": [
    "# Demonstrate image filtering with NumPy\n",
    "print(\"10. Image Filtering with NumPy\")\n",
    "\n",
    "# Create a simple 8x8 image with all white pixels (1s)\n",
    "all_white = np.ones((8, 8), np.uint8)\n",
    "print(\"All white image (8x8):\")\n",
    "print(all_white)\n",
    "\n",
    "# Create an 8x8 image with a vertical line in the middle\n",
    "vertical_line = np.zeros((8, 8), np.uint8)\n",
    "vertical_line[:, 3:5] = 1  # Set columns 3 and 4 to white\n",
    "print(\"\\nImage with vertical line:\")\n",
    "print(vertical_line)\n",
    "\n",
    "# Create an 8x8 image with a horizontal line in the middle\n",
    "horizontal_line = np.zeros((8, 8), np.uint8)\n",
    "horizontal_line[3:5, :] = 1  # Set rows 3 and 4 to white\n",
    "print(\"\\nImage with horizontal line:\")\n",
    "print(horizontal_line)"
   ]
  },
  {
   "cell_type": "code",
   "execution_count": 32,
   "metadata": {
    "tags": []
   },
   "outputs": [
    {
     "name": "stdout",
     "output_type": "stream",
     "text": [
      "\n",
      "Vertical edge detection filter (Sobel operator):\n",
      "[[-1  0  1]\n",
      " [-2  0  2]\n",
      " [-1  0  1]]\n",
      "\n",
      "Horizontal edge detection filter (Sobel operator):\n",
      "[[-1 -2 -1]\n",
      " [ 0  0  0]\n",
      " [ 1  2  1]]\n"
     ]
    }
   ],
   "source": [
    "# Create a simple edge detection filter (Sobel operator for vertical edges)\n",
    "vertical_edge_filter = np.array([\n",
    "    [-1, 0, 1],\n",
    "    [-2, 0, 2],\n",
    "    [-1, 0, 1]\n",
    "])\n",
    "print(\"\\nVertical edge detection filter (Sobel operator):\")\n",
    "print(vertical_edge_filter)\n",
    "\n",
    "# Create a simple edge detection filter for horizontal edges\n",
    "horizontal_edge_filter = np.array([\n",
    "    [-1, -2, -1],\n",
    "    [0, 0, 0],\n",
    "    [1, 2, 1]\n",
    "])\n",
    "print(\"\\nHorizontal edge detection filter (Sobel operator):\")\n",
    "print(horizontal_edge_filter)"
   ]
  },
  {
   "cell_type": "code",
   "execution_count": 41,
   "metadata": {
    "tags": []
   },
   "outputs": [],
   "source": [
    "# Function to apply a filter to an image using convolution\n",
    "def apply_filter(image, filter_kernel):\n",
    "    # Get dimensions\n",
    "    image_height, image_width = image.shape\n",
    "    kernel_height, kernel_width = filter_kernel.shape\n",
    "    # print(image_height, image_width)\n",
    "    # print(kernel_height, kernel_width)\n",
    "    # Calculate padding needed\n",
    "    pad_height = kernel_height // 2\n",
    "    pad_width = kernel_width // 2\n",
    "    \n",
    "    # Create output image\n",
    "    output = np.zeros((image_height, image_width))\n",
    "    \n",
    "    # Pad the image\n",
    "    padded_image = np.pad(image, ((pad_height, pad_height), (pad_width, pad_width)), mode='constant', constant_values=0)\n",
    "    \n",
    "    # Apply convolution\n",
    "    for i in range(image_height):\n",
    "        for j in range(image_width):\n",
    "            # Extract the region of interest\n",
    "            region = padded_image[i:i+kernel_height, j:j+kernel_width]\n",
    "            # print(region.shape, filter_kernel.shape)\n",
    "            # Apply the filter (element-wise multiplication and sum)\n",
    "            output[i, j] = np.sum(region * filter_kernel)\n",
    "\n",
    "    return abs(output)"
   ]
  },
  {
   "cell_type": "code",
   "execution_count": 42,
   "metadata": {
    "tags": []
   },
   "outputs": [
    {
     "name": "stdout",
     "output_type": "stream",
     "text": [
      "\n",
      "Vertical edge detection applied to vertical line image:\n",
      "[[0. 0. 3. 3. 3. 3. 0. 0.]\n",
      " [0. 0. 4. 4. 4. 4. 0. 0.]\n",
      " [0. 0. 4. 4. 4. 4. 0. 0.]\n",
      " [0. 0. 4. 4. 4. 4. 0. 0.]\n",
      " [0. 0. 4. 4. 4. 4. 0. 0.]\n",
      " [0. 0. 4. 4. 4. 4. 0. 0.]\n",
      " [0. 0. 4. 4. 4. 4. 0. 0.]\n",
      " [0. 0. 3. 3. 3. 3. 0. 0.]]\n",
      "\n",
      "Horizontal edge detection applied to horizontal line image:\n",
      "[[0. 0. 0. 0. 0. 0. 0. 0.]\n",
      " [0. 0. 0. 0. 0. 0. 0. 0.]\n",
      " [3. 4. 4. 4. 4. 4. 4. 3.]\n",
      " [3. 4. 4. 4. 4. 4. 4. 3.]\n",
      " [3. 4. 4. 4. 4. 4. 4. 3.]\n",
      " [3. 4. 4. 4. 4. 4. 4. 3.]\n",
      " [0. 0. 0. 0. 0. 0. 0. 0.]\n",
      " [0. 0. 0. 0. 0. 0. 0. 0.]]\n"
     ]
    }
   ],
   "source": [
    "# Apply vertical edge detection to the vertical line image\n",
    "vertical_edge_result = apply_filter(vertical_line, vertical_edge_filter)\n",
    "print(\"\\nVertical edge detection applied to vertical line image:\")\n",
    "print(vertical_edge_result)\n",
    "\n",
    "# Apply horizontal edge detection to the horizontal line image\n",
    "horizontal_edge_result = apply_filter(horizontal_line, horizontal_edge_filter)\n",
    "print(\"\\nHorizontal edge detection applied to horizontal line image:\")\n",
    "print(horizontal_edge_result)\n"
   ]
  },
  {
   "cell_type": "code",
   "execution_count": 43,
   "metadata": {
    "tags": []
   },
   "outputs": [
    {
     "name": "stdout",
     "output_type": "stream",
     "text": [
      "\n",
      "Image with a cross:\n",
      "[[0 0 0 1 1 0 0 0]\n",
      " [0 0 0 1 1 0 0 0]\n",
      " [0 0 0 1 1 0 0 0]\n",
      " [1 1 1 1 1 1 1 1]\n",
      " [1 1 1 1 1 1 1 1]\n",
      " [0 0 0 1 1 0 0 0]\n",
      " [0 0 0 1 1 0 0 0]\n",
      " [0 0 0 1 1 0 0 0]]\n",
      "\n",
      "Vertical edges detected in cross image:\n",
      "[[0. 0. 3. 3. 3. 3. 0. 0.]\n",
      " [0. 0. 4. 4. 4. 4. 0. 0.]\n",
      " [1. 0. 3. 3. 3. 3. 0. 1.]\n",
      " [3. 0. 1. 1. 1. 1. 0. 3.]\n",
      " [3. 0. 1. 1. 1. 1. 0. 3.]\n",
      " [1. 0. 3. 3. 3. 3. 0. 1.]\n",
      " [0. 0. 4. 4. 4. 4. 0. 0.]\n",
      " [0. 0. 3. 3. 3. 3. 0. 0.]]\n",
      "\n",
      "Horizontal edges detected in cross image:\n",
      "[[0. 0. 1. 3. 3. 1. 0. 0.]\n",
      " [0. 0. 0. 0. 0. 0. 0. 0.]\n",
      " [3. 4. 3. 1. 1. 3. 4. 3.]\n",
      " [3. 4. 3. 1. 1. 3. 4. 3.]\n",
      " [3. 4. 3. 1. 1. 3. 4. 3.]\n",
      " [3. 4. 3. 1. 1. 3. 4. 3.]\n",
      " [0. 0. 0. 0. 0. 0. 0. 0.]\n",
      " [0. 0. 1. 3. 3. 1. 0. 0.]]\n",
      "\n",
      "Combined edge detection (gradient magnitude):\n",
      "[[0.         0.         3.16227766 4.24264069 4.24264069 3.16227766\n",
      "  0.         0.        ]\n",
      " [0.         0.         4.         4.         4.         4.\n",
      "  0.         0.        ]\n",
      " [3.16227766 4.         4.24264069 3.16227766 3.16227766 4.24264069\n",
      "  4.         3.16227766]\n",
      " [4.24264069 4.         3.16227766 1.41421356 1.41421356 3.16227766\n",
      "  4.         4.24264069]\n",
      " [4.24264069 4.         3.16227766 1.41421356 1.41421356 3.16227766\n",
      "  4.         4.24264069]\n",
      " [3.16227766 4.         4.24264069 3.16227766 3.16227766 4.24264069\n",
      "  4.         3.16227766]\n",
      " [0.         0.         4.         4.         4.         4.\n",
      "  0.         0.        ]\n",
      " [0.         0.         3.16227766 4.24264069 4.24264069 3.16227766\n",
      "  0.         0.        ]]\n"
     ]
    }
   ],
   "source": [
    "# Create a more complex image with a cross\n",
    "cross_image = np.zeros((8, 8), np.uint8)\n",
    "cross_image[3:5, :] = 1  # Horizontal line\n",
    "cross_image[:, 3:5] = 1  # Vertical line\n",
    "print(\"\\nImage with a cross:\")\n",
    "print(cross_image)\n",
    "\n",
    "# Apply both edge detectors to the cross image\n",
    "cross_vertical_edges = apply_filter(cross_image, vertical_edge_filter)\n",
    "cross_horizontal_edges = apply_filter(cross_image, horizontal_edge_filter)\n",
    "\n",
    "print(\"\\nVertical edges detected in cross image:\")\n",
    "print(cross_vertical_edges)\n",
    "print(\"\\nHorizontal edges detected in cross image:\")\n",
    "print(cross_horizontal_edges)\n",
    "\n",
    "# Combine both edge detections (approximation of gradient magnitude)\n",
    "edge_magnitude = np.sqrt(cross_vertical_edges**2 + cross_horizontal_edges**2)\n",
    "print(\"\\nCombined edge detection (gradient magnitude):\")\n",
    "print(edge_magnitude)\n"
   ]
  },
  {
   "cell_type": "code",
   "execution_count": 33,
   "metadata": {},
   "outputs": [
    {
     "data": {
      "image/png": "[encoded data removed]",
      "text/plain": [
       "<Figure size 1500x1000 with 8 Axes>"
      ]
     },
     "metadata": {},
     "output_type": "display_data"
    }
   ],
   "source": [
    "# Set up a figure with subplots for all our images\n",
    "plt.figure(figsize=(15, 10))\n",
    "\n",
    "# Plot original images\n",
    "plt.subplot(2, 4, 1)\n",
    "plt.imshow(vertical_line, cmap='gray')\n",
    "plt.title('Vertical Line')\n",
    "plt.axis('off')\n",
    "\n",
    "plt.subplot(2, 4, 2)\n",
    "plt.imshow(horizontal_line, cmap='gray')\n",
    "plt.title('Horizontal Line')\n",
    "plt.axis('off')\n",
    "\n",
    "plt.subplot(2, 4, 3)\n",
    "plt.imshow(cross_image, cmap='gray')\n",
    "plt.title('Cross Image')\n",
    "plt.axis('off')\n",
    "\n",
    "# Plot edge detection results\n",
    "plt.subplot(2, 4, 5)\n",
    "plt.imshow(vertical_edge_result, cmap='gray')\n",
    "plt.title('Vertical Edge Detection\\non Vertical Line')\n",
    "plt.axis('off')\n",
    "\n",
    "plt.subplot(2, 4, 6)\n",
    "plt.imshow(horizontal_edge_result, cmap='gray')\n",
    "plt.title('Horizontal Edge Detection\\non Horizontal Line')\n",
    "plt.axis('off')\n",
    "\n",
    "plt.subplot(2, 4, 7)\n",
    "plt.imshow(cross_vertical_edges, cmap='gray')\n",
    "plt.title('Vertical Edges\\nin Cross')\n",
    "plt.axis('off')\n",
    "\n",
    "plt.subplot(2, 4, 8)\n",
    "plt.imshow(cross_horizontal_edges, cmap='gray')\n",
    "plt.title('Horizontal Edges\\nin Cross')\n",
    "plt.axis('off')\n",
    "\n",
    "# Plot the combined edge magnitude\n",
    "plt.subplot(2, 4, 4)\n",
    "plt.imshow(edge_magnitude, cmap='gray')\n",
    "plt.title('Edge Magnitude\\n(Combined)')\n",
    "plt.axis('off')\n",
    "\n",
    "plt.tight_layout()\n",
    "plt.show()\n"
   ]
  },
  {
   "cell_type": "code",
   "execution_count": null,
   "metadata": {},
   "outputs": [],
   "source": []
  }
 ],
 "metadata": {
  "kernelspec": {
   "display_name": "NumPy CV Lecture",
   "language": "python",
   "name": "numpy-cv-lecture-py3.11"
  },
  "language_info": {
   "codemirror_mode": {
    "name": "ipython",
    "version": 3
   },
   "file_extension": ".py",
   "mimetype": "text/x-python",
   "name": "python",
   "nbconvert_exporter": "python",
   "pygments_lexer": "ipython3",
   "version": "3.11.0"
  }
 },
 "nbformat": 4,
 "nbformat_minor": 4
}
