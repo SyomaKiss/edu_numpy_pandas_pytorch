{
 "cells": [
  {
   "cell_type": "code",
   "execution_count": 1,
   "metadata": {},
   "outputs": [],
   "source": [
    "import sys\n",
    "def get_size(obj):\n",
    "    return sys.getsizeof(obj)"
   ]
  },
  {
   "cell_type": "code",
   "execution_count": null,
   "metadata": {},
   "outputs": [],
   "source": [
    "import torch\n",
    "import numpy as np\n",
    "import time\n",
    "\n",
    "# Check for GPU availability\n",
    "if torch.cuda.is_available():\n",
    "    device = torch.device(\"cuda\")\n",
    "    print(\"GPU is available!\")\n",
    "else:\n",
    "    device = torch.device(\"cpu\")\n",
    "    print(\"GPU is not available, using CPU.\")\n",
    "\n",
    "# Matrix dimensions\n",
    "for size in [10, 100, 1000, 10_000]:\n",
    "    print()\n",
    "    print('Size:', size)\n",
    "    # NumPy arrays\n",
    "    np_matrix_a = np.random.rand(size, size).astype(np.float32)\n",
    "    np_matrix_b = np.random.rand(size, size).astype(np.float32)\n",
    "    print(f\"Size of NumPy array: {get_size(np_matrix_a) / 1024} Kb\")\n",
    "    # Time NumPy matrix multiplication\n",
    "    start_time = time.time()\n",
    "    np_result = np.matmul(np_matrix_a, np_matrix_b)\n",
    "    np_time = time.time() - start_time\n",
    "    print(f\"NumPy matrix multiplication took {np_time:.4f} seconds.\")\n",
    "\n",
    "\n",
    "    # PyTorch tensors\n",
    "    torch_matrix_a = torch.from_numpy(np_matrix_a).to(device)\n",
    "    torch_matrix_b = torch.from_numpy(np_matrix_b).to(device)\n",
    "\n",
    "\n",
    "    # Time PyTorch tensor multiplication on GPU/CPU\n",
    "    start_time = time.time()\n",
    "    torch_result = torch.matmul(torch_matrix_a, torch_matrix_b)\n",
    "    torch_time = time.time() - start_time\n",
    "\n",
    "    print(f\"PyTorch matrix multiplication took {torch_time:.4f} seconds.\")\n",
    "\n",
    "\n",
    "    # Print comparison\n",
    "    print(f\"\\nSpeedup: {np_time/torch_time:.2f}x\")"
   ]
  }
 ],
 "metadata": {
  "kernelspec": {
   "display_name": "Python 3 (ipykernel)",
   "language": "python",
   "name": "python3"
  },
  "language_info": {
   "codemirror_mode": {
    "name": "ipython",
    "version": 3
   },
   "file_extension": ".py",
   "mimetype": "text/x-python",
   "name": "python",
   "nbconvert_exporter": "python",
   "pygments_lexer": "ipython3",
   "version": "3.11.0"
  }
 },
 "nbformat": 4,
 "nbformat_minor": 4
}
